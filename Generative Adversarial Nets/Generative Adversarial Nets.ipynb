{
 "cells": [
  {
   "cell_type": "markdown",
   "id": "bc2f3e8d",
   "metadata": {},
   "source": [
    "# Generative Adversarial Nets"
   ]
  },
  {
   "cell_type": "markdown",
   "id": "a91623c8",
   "metadata": {},
   "source": [
    "<img src=\"https://github.com/drmoon-1st/Paper-Implementation/blob/main/Generative%20Adversarial%20Nets/img/screenshot_230111(7).png?raw=true\" width=800 height=600>"
   ]
  },
  {
   "cell_type": "markdown",
   "id": "60f03372",
   "metadata": {},
   "source": [
    "## Features"
   ]
  },
  {
   "cell_type": "markdown",
   "id": "565673d0",
   "metadata": {},
   "source": [
    "### Adversarial nets"
   ]
  },
  {
   "cell_type": "markdown",
   "id": "eddda17d",
   "metadata": {},
   "source": [
    "<img src='https://github.com/drmoon-1st/Paper-Implementation/blob/main/Generative%20Adversarial%20Nets/img/screenshot_23110_(1).png?raw=true' width=600 height=150>"
   ]
  },
  {
   "cell_type": "markdown",
   "id": "a4c12996",
   "metadata": {},
   "source": [
    "> * $x$ : Data\n",
    "> * $p_g$ : Generator's distribution\n",
    "> * $p_z(z)$ : Prior on input noise variables.\n",
    "> * $G(z;\\theta_g)$ : Data space where $G$ is a differentiable function represented by a multilayer perceptron with parameters $\\theta_g$.\n",
    "> * $D(x;\\theta_d)$ : Second multilayer perceptron that outputs a single scalar.\n",
    "> * $D(x)$ : Represents the probability that $x$ came from the data rather than $p_g$.\n",
    "> * Train $D$ to maximize the problbility of assigning the correct label to both training examples and samples from $G$.\n",
    "> * Train $G$ to minimize $log(1-D(G(z)))$.\n",
    "> * $D$ and $G$ play the following two-player minimax game with value function $V(G, D)$."
   ]
  },
  {
   "cell_type": "markdown",
   "id": "41a9c1eb",
   "metadata": {},
   "source": [
    "<img src='https://github.com/drmoon-1st/Paper-Implementation/blob/main/Generative%20Adversarial%20Nets/img/screenshot_220110(2).png?raw=true' width=900 height=500>"
   ]
  },
  {
   "cell_type": "markdown",
   "id": "0a1e9c99",
   "metadata": {},
   "source": [
    "* The training criterion allows one to recover the data generation distribution as $G$ and $D$ are given enough capacity, i.e., in the non-oarametric limit.\n",
    "* Alternated between $k$ steps of optimizing $D$ and one step of optimizing $G$.\n",
    "* After several steps of training, if $G$ and $D$ have enough capacity, they will reach a point at which both cannot improve becaues $p_g = p_{data}$."
   ]
  },
  {
   "cell_type": "markdown",
   "id": "37ccecd4",
   "metadata": {},
   "source": [
    "### Theoretical  Results"
   ]
  },
  {
   "cell_type": "markdown",
   "id": "ac606666",
   "metadata": {},
   "source": [
    "<img src=\"https://github.com/drmoon-1st/Paper-Implementation/blob/main/Generative%20Adversarial%20Nets/img/screenshot_230111(1).png?raw=true\" width=600 height=150>"
   ]
  },
  {
   "cell_type": "markdown",
   "id": "219ed2cc",
   "metadata": {},
   "source": [
    "> * Sample minibatch of $m$ noise samples {$z^{(1)}, z^{(2)},...,z^{(m)}$} from noise prior p_g(z).\n",
    "> * Sample minibatch of $m$ examples {$z^{(1)}, z^{(2)},...,z^{(m)}$} from data generating distribution $p_{data}(x)$"
   ]
  },
  {
   "cell_type": "markdown",
   "id": "23311f9c",
   "metadata": {},
   "source": [
    "<img src=\"https://github.com/drmoon-1st/Paper-Implementation/blob/main/Generative%20Adversarial%20Nets/img/screenshot_230111(2).png?raw=true\" width=300 height=150>"
   ]
  },
  {
   "cell_type": "markdown",
   "id": "a6769821",
   "metadata": {},
   "source": [
    "<img src=\"https://github.com/drmoon-1st/Paper-Implementation/blob/main/Generative%20Adversarial%20Nets/img/screenshot_230111(3).png?raw=true\" width=600 height>"
   ]
  },
  {
   "cell_type": "markdown",
   "id": "6dc7e20b",
   "metadata": {},
   "source": [
    "<img src=\"https://github.com/drmoon-1st/Paper-Implementation/blob/main/Generative%20Adversarial%20Nets/img/screenshot_230111(4).png?raw=true\" width=600 height=150>"
   ]
  },
  {
   "cell_type": "markdown",
   "id": "f41aac78",
   "metadata": {},
   "source": [
    "<img src=\"https://github.com/drmoon-1st/Paper-Implementation/blob/main/Generative%20Adversarial%20Nets/img/screenshot_230111(5).png?raw=true\" width=600 height=150>"
   ]
  },
  {
   "cell_type": "markdown",
   "id": "c2fe1c8d",
   "metadata": {},
   "source": [
    "<img src=\"https://github.com/drmoon-1st/Paper-Implementation/blob/main/Generative%20Adversarial%20Nets/img/screenshot_230111(6).png?raw=true\" width=350 height=150>"
   ]
  },
  {
   "cell_type": "markdown",
   "id": "cbe42ad8",
   "metadata": {},
   "source": [
    "## Other Concept"
   ]
  },
  {
   "cell_type": "markdown",
   "id": "659b572d",
   "metadata": {},
   "source": [
    "### Parametric model and Non-parametric model"
   ]
  },
  {
   "cell_type": "markdown",
   "id": "7f7a5683",
   "metadata": {},
   "source": [
    "* Parametric model : The model has a fixed number of parameters.\n",
    "    * Fast and easy to understand model.\n",
    "    * Low flexibility\n",
    "* Non-parametric model : The number of parameters grow with the amount of training data.\n",
    "    * Flexible\n",
    "    * Slow and hard to understand model."
   ]
  },
  {
   "cell_type": "markdown",
   "id": "628a1d92",
   "metadata": {},
   "source": [
    "## Source Code"
   ]
  },
  {
   "cell_type": "code",
   "execution_count": null,
   "id": "8db7065d",
   "metadata": {},
   "outputs": [],
   "source": []
  },
  {
   "cell_type": "markdown",
   "id": "4ad6dd44",
   "metadata": {},
   "source": [
    "## Reference"
   ]
  },
  {
   "cell_type": "markdown",
   "id": "32699b7a",
   "metadata": {},
   "source": [
    "Paper : https://arxiv.org/pdf/1406.2661v1.pdf"
   ]
  }
 ],
 "metadata": {
  "kernelspec": {
   "display_name": "Python 3 (ipykernel)",
   "language": "python",
   "name": "python3"
  },
  "language_info": {
   "codemirror_mode": {
    "name": "ipython",
    "version": 3
   },
   "file_extension": ".py",
   "mimetype": "text/x-python",
   "name": "python",
   "nbconvert_exporter": "python",
   "pygments_lexer": "ipython3",
   "version": "3.9.13"
  }
 },
 "nbformat": 4,
 "nbformat_minor": 5
}

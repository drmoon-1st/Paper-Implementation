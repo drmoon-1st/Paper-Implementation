{
 "cells": [
  {
   "cell_type": "markdown",
   "id": "6a897d09",
   "metadata": {},
   "source": [
    "# Generative Adversarial Nets"
   ]
  },
  {
   "cell_type": "markdown",
   "id": "130c12a4",
   "metadata": {},
   "source": [
    "## Features"
   ]
  },
  {
   "cell_type": "markdown",
   "id": "ebc6812f",
   "metadata": {},
   "source": [
    "### Adversarial nets"
   ]
  },
  {
   "cell_type": "markdown",
   "id": "1ee14aa1",
   "metadata": {},
   "source": [
    "<img src='https://github.com/drmoon-1st/Paper-Implementation/blob/main/Generative%20Adversarial%20Nets/img/screenshot_23110_(1).png?raw=true' width=600 height=150>"
   ]
  },
  {
   "cell_type": "markdown",
   "id": "54785615",
   "metadata": {},
   "source": [
    "> * $x$ : Data\n",
    "> * $p_g$ : Generator's distribution\n",
    "> * $p_z(z)$ : Prior on input noise variables.\n",
    "> * $G(z;\\theta_g)$ : Data space where $G$ is ab differentiable function represented by a multilayer perceptron with parameters $\\theta_g$.\n",
    "> * $D(x;\\theta_d)$ : Second multilayer perceptron thatoutputs a single scalar.\n",
    "> * $D(x)$ : Represents the probability that $x$ came from the data rather than $p_g$.\n",
    "> * Train $D$ to maximize the problbility of assigning the correct label to both training examples and samples from $G$.\n",
    "> * Train $G$ to minimize $log(1-D(G(z)))$.\n",
    "> * $D$ and $G$ play the following two-player minimax game with value function $V(G, D)$."
   ]
  },
  {
   "cell_type": "markdown",
   "id": "3d4bfaef",
   "metadata": {},
   "source": [
    "* "
   ]
  },
  {
   "cell_type": "markdown",
   "id": "483c50ae",
   "metadata": {},
   "source": []
  },
  {
   "cell_type": "markdown",
   "id": "b5470713",
   "metadata": {},
   "source": [
    "### Parametric model and Non-parametric model"
   ]
  },
  {
   "cell_type": "markdown",
   "id": "58b2ee5d",
   "metadata": {},
   "source": [
    "* Parametric model : The model has a fixed number of parameters.\n",
    "    * Fast and easy to understand model.\n",
    "    * Low flexibility\n",
    "* Non-parametric model : The number of parameters grow with the amount of training data.\n",
    "    * Flexible\n",
    "    * Slow and hard to understand model."
   ]
  },
  {
   "cell_type": "code",
   "execution_count": null,
   "id": "2d89cfa1",
   "metadata": {},
   "outputs": [],
   "source": []
  },
  {
   "cell_type": "code",
   "execution_count": null,
   "id": "4c140e52",
   "metadata": {},
   "outputs": [],
   "source": []
  }
 ],
 "metadata": {
  "kernelspec": {
   "display_name": "Python 3 (ipykernel)",
   "language": "python",
   "name": "python3"
  },
  "language_info": {
   "codemirror_mode": {
    "name": "ipython",
    "version": 3
   },
   "file_extension": ".py",
   "mimetype": "text/x-python",
   "name": "python",
   "nbconvert_exporter": "python",
   "pygments_lexer": "ipython3",
   "version": "3.9.13"
  }
 },
 "nbformat": 4,
 "nbformat_minor": 5
}

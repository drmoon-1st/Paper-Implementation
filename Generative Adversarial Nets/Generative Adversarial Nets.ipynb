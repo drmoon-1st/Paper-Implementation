{
 "cells": [
  {
   "cell_type": "markdown",
   "id": "116a6c08",
   "metadata": {},
   "source": [
    "# Generative Adversarial Nets"
   ]
  },
  {
   "cell_type": "markdown",
   "id": "a9c0602c",
   "metadata": {},
   "source": [
    "## Features"
   ]
  },
  {
   "cell_type": "markdown",
   "id": "a03da21c",
   "metadata": {},
   "source": [
    "### Adversarial nets\n",
    "\n",
    "* $x$ : Data\n",
    "* $p_g$ : Generator's distribution\n",
    "* $p_z(z)$ : Prior on input noise variables.\n",
    "* $G(z;\\theta_g)$ : Data space where G is ab differentiable function represented by a multilayer perceptron with parameters $\\theta_g$.\n",
    "* $D(x;\\theta_d)$ : Second multilayer perceptron thatoutputs a single scalar.\n",
    "* $D(x)$ : Represents the probability that $x$ came from the data rather than $p_g$.\n",
    "* Train $D$ to maximize the problbility of assigning the correct label to both training examples and samples from $G$.\n",
    "* Train $G$ to minimize $log(1-D(G(z)))$.\n",
    "* $D$ and $G$ play the following two-player minimax game with value function $V(G, D)$."
   ]
  },
  {
   "cell_type": "markdown",
   "id": "3efcc90c",
   "metadata": {},
   "source": [
    "<img src='https://github.com/drmoon-1st/Paper-Implementation/blob/main/Generative%20Adversarial%20Nets/img/screenshot_23110_(1).png?raw=true' width=600 height=150>"
   ]
  },
  {
   "cell_type": "markdown",
   "id": "810fb76c",
   "metadata": {},
   "source": [
    "* "
   ]
  },
  {
   "cell_type": "code",
   "execution_count": null,
   "id": "56ce7fa3",
   "metadata": {},
   "outputs": [],
   "source": []
  },
  {
   "cell_type": "code",
   "execution_count": null,
   "id": "7788b6f7",
   "metadata": {},
   "outputs": [],
   "source": []
  },
  {
   "cell_type": "code",
   "execution_count": null,
   "id": "3e1cb6ca",
   "metadata": {},
   "outputs": [],
   "source": []
  },
  {
   "cell_type": "code",
   "execution_count": null,
   "id": "c52c17d2",
   "metadata": {},
   "outputs": [],
   "source": []
  },
  {
   "cell_type": "code",
   "execution_count": null,
   "id": "ee2bb31a",
   "metadata": {},
   "outputs": [],
   "source": []
  },
  {
   "cell_type": "code",
   "execution_count": null,
   "id": "9e170689",
   "metadata": {},
   "outputs": [],
   "source": []
  },
  {
   "cell_type": "code",
   "execution_count": null,
   "id": "4fe52941",
   "metadata": {},
   "outputs": [],
   "source": []
  }
 ],
 "metadata": {
  "kernelspec": {
   "display_name": "Python 3 (ipykernel)",
   "language": "python",
   "name": "python3"
  },
  "language_info": {
   "codemirror_mode": {
    "name": "ipython",
    "version": 3
   },
   "file_extension": ".py",
   "mimetype": "text/x-python",
   "name": "python",
   "nbconvert_exporter": "python",
   "pygments_lexer": "ipython3",
   "version": "3.9.13"
  }
 },
 "nbformat": 4,
 "nbformat_minor": 5
}
